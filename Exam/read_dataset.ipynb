{
 "cells": [
  {
   "cell_type": "markdown",
   "metadata": {},
   "source": [
    "# Umvolkung training and test dataset\n",
    "This file read `umvolkung-training.csv` and create variables for the machine learning classification."
   ]
  },
  {
   "cell_type": "code",
   "execution_count": 20,
   "metadata": {},
   "outputs": [
    {
     "name": "stdout",
     "output_type": "stream",
     "text": [
      "2581\n"
     ]
    }
   ],
   "source": [
    "import pandas as pd # Here we use pandas package for reading a csv file.\n",
    "data = pd.read_csv('umvolkung-training.csv')\n",
    "print(len(data))\n",
    "\n",
    "text = data['text'].values\n",
    "cat = data['category'].values\n",
    "train_t = text[0:2081]\n",
    "train_c = cat[0:2081]\n",
    "test_t = text[2081:2581]\n",
    "test_c = cat[2081:2581]\n"
   ]
  },
  {
   "cell_type": "markdown",
   "metadata": {},
   "source": []
  },
  {
   "cell_type": "code",
   "execution_count": 21,
   "metadata": {},
   "outputs": [
    {
     "name": "stdout",
     "output_type": "stream",
     "text": [
      "['Es ist soweit, Ihr könnt Euch jetzt das Spaßshirt holen (vorne „Schlepperkönig“, hinten „Team Umvolkung“). Schickt eine Mail an logistik@mission-lifeline.de mit Eurer Adresse, gewünschte Shirtgröße &amp; Tag Eurer Überweisung aufs Konto (https://t.co/7B12M76Crw)! https://t.co/0AWO4lHIsF'\n",
      " 'Tja, die Steuern sind nicht zweckgebunden, sie dienen zur Zeit der besonders wichtigen Staatsaufgabe der #Umvolkung. #Merkelmussweg #AfD https://t.co/1r7KqO6YSw'\n",
      " '@KokoLores20 Noch nicht begriffen, nicht die Iraker müssen sich integrieren. Noch 10 Jahre und die haben hier ihre Gesellschaft eingerichtet und die Deutschen sitzen unter sich in der Ecke. #Umvolkung Im Auftrag der Regierung.'\n",
      " 'Grün will offenbar Deindustrialisierung, Amish Lebensweise, Pferdekutschen - zur Kalergi Umvolkung noch Morgenthau Agrarstaat dazu - Deutschland verrecke!😱🤡🇩🇪\\n\\nSPIEGEL ONLINE: Reaktionen auf Weltklimabericht: \"Alle Alarmzeichen stehen auf Rot\".\\nhttps://t.co/ySWe3g04iT'\n",
      " '@AncapDude von mir sehen die keinen Cent für ihre Umvolkung'\n",
      " 'Ze kunnen hun criminele bedoelingen niet meer  verbergen  want iedereen weet het,  dan maar met een T-shirt ermee rondlopen  \\nhet is alles of niks,  als ze de #strijd_tegen_rechts verliezen,  eindigen ze achter de tralies,  #LIFELINE\\nhttps://t.co/hK1vyyYzlI https://t.co/R0mdeH4KZj'\n",
      " '\"Team Umvolkung?\" Das T-Shirt des Schlepperkapitäns https://t.co/gzsaZ5PF6s via @YouTube'\n",
      " 'Herr @MiRo_SPD behauptet es kämen Dank des Migrationspakts lediglich 10.000 zusätzliche Siedler aus Dunkelgrünland.\\nIch halte das für eine grobe Lüge\\nUnd fordere eine Volksabstimmung!\\nDas ist Umvolkung gegen den Willen des Volkes, gegen unser Gesetz!\\n\\nBitte teilen! Danke 😍 https://t.co/zc2nPPuONL'\n",
      " '\"Team Umvolkung?\" Das T-Shirt des Schlepperkapitäns https://t.co/eVezYux9Il via @YouTube'\n",
      " 'Das dürft ihr euch gerne mal als Lektüre für das Wochenende reintun.\\n\\nHier wird Klartext gesprochen, und das ist nicht zufällig!\\n\\n#Umvolkung ist beschlossene Sache.\\n\\nDie Globalisten und Lakaien ficken Euch hart.\\n\\n#PaktfürMigration https://t.co/Tjxl2mxHKq']\n",
      "[0 1 1 0 0 0 1 1 1 1]\n"
     ]
    }
   ],
   "source": [
    "print(train_t[:10])\n",
    "print(train_c[:10])"
   ]
  }
 ],
 "metadata": {
  "kernelspec": {
   "display_name": "base",
   "language": "python",
   "name": "base"
  },
  "language_info": {
   "codemirror_mode": {
    "name": "ipython",
    "version": 3
   },
   "file_extension": ".py",
   "mimetype": "text/x-python",
   "name": "python",
   "nbconvert_exporter": "python",
   "pygments_lexer": "ipython3",
   "version": "3.8.3"
  },
  "orig_nbformat": 4,
  "vscode": {
   "interpreter": {
    "hash": "5a5de30065858b2a3304bed5046c2b0b4c4d390e344cc17b595772fa0885098f"
   }
  }
 },
 "nbformat": 4,
 "nbformat_minor": 2
}
