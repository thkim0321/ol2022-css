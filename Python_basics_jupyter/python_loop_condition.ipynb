{
 "cells": [
  {
   "cell_type": "markdown",
   "metadata": {},
   "source": [
    "# Indentation block\n",
    "Python uses indentation to compose statements into blocks\n",
    "- a block starts with a block statement followed by a colon\n",
    "- all statements inside the block have a higher indentation depth\n",
    "- statements on the same nesting level must have equal indentation\n",
    "- the block ends by decreasing the indentation levels to a previous one"
   ]
  },
  {
   "cell_type": "markdown",
   "metadata": {},
   "source": [
    "# loop\n",
    "## for"
   ]
  },
  {
   "cell_type": "markdown",
   "metadata": {},
   "source": [
    "```python\n",
    "for targets in something_iterable:  \n",
    "    statements\n",
    "```"
   ]
  },
  {
   "cell_type": "code",
   "execution_count": 3,
   "metadata": {},
   "outputs": [
    {
     "name": "stdout",
     "output_type": "stream",
     "text": [
      "0\n",
      "1\n",
      "2\n",
      "3\n",
      "4\n"
     ]
    }
   ],
   "source": [
    "for i in [0,1,2,3,4]:\n",
    "    print(i)"
   ]
  },
  {
   "cell_type": "code",
   "execution_count": 4,
   "metadata": {},
   "outputs": [
    {
     "name": "stdout",
     "output_type": "stream",
     "text": [
      "0\n",
      "1\n",
      "2\n",
      "3\n",
      "4\n"
     ]
    }
   ],
   "source": [
    "for i in range(5):  # range(5) = 0,1,2,3,4. Check list(range(5)).\n",
    "    print(i)"
   ]
  },
  {
   "cell_type": "code",
   "execution_count": 6,
   "metadata": {},
   "outputs": [
    {
     "name": "stdout",
     "output_type": "stream",
     "text": [
      "[0, 1, 2, 3, 4]\n"
     ]
    }
   ],
   "source": [
    "#print(range(5))\n",
    "print(list(range(5)))"
   ]
  },
  {
   "cell_type": "markdown",
   "metadata": {},
   "source": [
    "### ```range(start, end, step)``` : returns sequence of number"
   ]
  },
  {
   "cell_type": "code",
   "execution_count": 11,
   "metadata": {},
   "outputs": [
    {
     "data": {
      "text/plain": [
       "[0, 2, 4, 6, 8]"
      ]
     },
     "execution_count": 11,
     "metadata": {},
     "output_type": "execute_result"
    }
   ],
   "source": [
    "list(range(0, 10, 2))"
   ]
  },
  {
   "cell_type": "code",
   "execution_count": 14,
   "metadata": {},
   "outputs": [
    {
     "name": "stdout",
     "output_type": "stream",
     "text": [
      "cat\n",
      "dog\n",
      "bird\n"
     ]
    }
   ],
   "source": [
    "animals = ['cat', 'dog', 'bird']\n",
    "for animal in animals:  # this is possible because list is 'iterable'\n",
    "    print(animal)"
   ]
  },
  {
   "cell_type": "code",
   "execution_count": 13,
   "metadata": {},
   "outputs": [
    {
     "name": "stdout",
     "output_type": "stream",
     "text": [
      "cat\n",
      "dog\n",
      "bird\n"
     ]
    }
   ],
   "source": [
    "for i in range(0, len(animals)):\n",
    "    print(animals[i])"
   ]
  },
  {
   "cell_type": "markdown",
   "metadata": {},
   "source": [
    "## while"
   ]
  },
  {
   "cell_type": "markdown",
   "metadata": {
    "collapsed": true
   },
   "source": [
    "while loop: execute till a condition evaluates to False  \n",
    "```while``` _condition_ :  \n",
    "     $\\;\\;\\;\\;$ _statements_  \n",
    "You can use while loop when you do not know exactly when should be the end of the loop"
   ]
  },
  {
   "cell_type": "code",
   "execution_count": 14,
   "metadata": {},
   "outputs": [
    {
     "name": "stdout",
     "output_type": "stream",
     "text": [
      "cat\n",
      "dog\n",
      "bird\n"
     ]
    }
   ],
   "source": [
    "current = 0\n",
    "while current < len(animals):\n",
    "    print(animals[current])\n",
    "    current += 1\n",
    "    #current = current + 1"
   ]
  },
  {
   "cell_type": "markdown",
   "metadata": {},
   "source": [
    "## other iterable type: string, tuple, dict, set"
   ]
  },
  {
   "cell_type": "code",
   "execution_count": 2,
   "metadata": {},
   "outputs": [
    {
     "name": "stdout",
     "output_type": "stream",
     "text": [
      "germany\n",
      "us\n",
      "france\n",
      "uk\n"
     ]
    }
   ],
   "source": [
    "d = {'germany': 'Angela Merkel', \n",
    "     'us': 'Donald Trump', \n",
    "     'france': 'Emmanuel Macron',\n",
    "     'uk': 'Theresa May'}\n",
    "\n",
    "for k in d:  # it returns key in dictionary\n",
    "    print(k)"
   ]
  },
  {
   "cell_type": "code",
   "execution_count": 3,
   "metadata": {},
   "outputs": [
    {
     "name": "stdout",
     "output_type": "stream",
     "text": [
      "Angela Merkel\n",
      "Donald Trump\n",
      "Emmanuel Macron\n",
      "Theresa May\n"
     ]
    }
   ],
   "source": [
    "for val in d.values():  # if you want to print values\n",
    "    print(val)"
   ]
  },
  {
   "cell_type": "code",
   "execution_count": 4,
   "metadata": {},
   "outputs": [
    {
     "name": "stdout",
     "output_type": "stream",
     "text": [
      "germany Angela Merkel\n",
      "us Donald Trump\n",
      "france Emmanuel Macron\n",
      "uk Theresa May\n"
     ]
    }
   ],
   "source": [
    "for key in d:\n",
    "    print(key,d[key])"
   ]
  },
  {
   "cell_type": "code",
   "execution_count": 5,
   "metadata": {
    "scrolled": false
   },
   "outputs": [
    {
     "name": "stdout",
     "output_type": "stream",
     "text": [
      "key:germany, Value:Angela Merkel\n",
      "key:us, Value:Donald Trump\n",
      "key:france, Value:Emmanuel Macron\n",
      "key:uk, Value:Theresa May\n"
     ]
    }
   ],
   "source": [
    "for key in d:\n",
    "    print('key:'+ key +', Value:'+ d[key])"
   ]
  },
  {
   "cell_type": "code",
   "execution_count": 6,
   "metadata": {
    "scrolled": false
   },
   "outputs": [
    {
     "name": "stdout",
     "output_type": "stream",
     "text": [
      "Key:germany, Value:Angela Merkel\n",
      "Key:us, Value:Donald Trump\n",
      "Key:france, Value:Emmanuel Macron\n",
      "Key:uk, Value:Theresa May\n"
     ]
    }
   ],
   "source": [
    "# Handy Tip! Let's use string.format() to create \n",
    "# a string with other information.\n",
    "for key in d:\n",
    "    print('Key:{0}, Value:{1}'.format(key,d[key]))"
   ]
  },
  {
   "cell_type": "code",
   "execution_count": 7,
   "metadata": {},
   "outputs": [
    {
     "name": "stdout",
     "output_type": "stream",
     "text": [
      "Key:germany, Value:Angela Merkel\n",
      "Key:     us, Value:Donald Trump\n",
      "Key: france, Value:Emmanuel Macron\n",
      "Key:     uk, Value:Theresa May\n"
     ]
    }
   ],
   "source": [
    "# aligning: https://docs.python.org/3/library/string.html\n",
    "# < left align, > right align, ^ centered. \n",
    "# number : width\n",
    "\n",
    "for key in d:\n",
    "    print('Key:{:>7}, Value:{:>10}'.format(key,d[key]))"
   ]
  },
  {
   "cell_type": "code",
   "execution_count": 8,
   "metadata": {},
   "outputs": [
    {
     "name": "stdout",
     "output_type": "stream",
     "text": [
      "My dog's name is Max and he is 3 years old. Max likes chasing birds.\n"
     ]
    }
   ],
   "source": [
    "# string.format{} example\n",
    "age = 3; name = 'Max'\n",
    "print('My dog\\'s name is {1} and he is {0} years old. {1} likes chasing birds.'.format(age,name))\n"
   ]
  },
  {
   "cell_type": "markdown",
   "metadata": {},
   "source": [
    "### zip(): combine more than two list"
   ]
  },
  {
   "cell_type": "code",
   "execution_count": 10,
   "metadata": {},
   "outputs": [],
   "source": [
    "col_names = ['Country', 'Name', 'Born', 'Party']\n",
    "germany = ['Germany', 'Angela Merkel', 1954, 'CDU']"
   ]
  },
  {
   "cell_type": "code",
   "execution_count": 11,
   "metadata": {},
   "outputs": [
    {
     "name": "stdout",
     "output_type": "stream",
     "text": [
      "('Country', 'Germany')\n",
      "('Name', 'Angela Merkel')\n",
      "('Born', 1954)\n",
      "('Party', 'CDU')\n"
     ]
    }
   ],
   "source": [
    "for i in zip(col_names, germany):\n",
    "    print(i)"
   ]
  },
  {
   "cell_type": "code",
   "execution_count": 12,
   "metadata": {},
   "outputs": [
    {
     "data": {
      "text/plain": [
       "[('Country', 'Germany'),\n",
       " ('Name', 'Angela Merkel'),\n",
       " ('Born', 1954),\n",
       " ('Party', 'CDU')]"
      ]
     },
     "execution_count": 12,
     "metadata": {},
     "output_type": "execute_result"
    }
   ],
   "source": [
    "list(zip(col_names,germany))"
   ]
  },
  {
   "cell_type": "code",
   "execution_count": 13,
   "metadata": {},
   "outputs": [
    {
     "data": {
      "text/plain": [
       "{'Country': 'Germany', 'Name': 'Angela Merkel', 'Born': 1954, 'Party': 'CDU'}"
      ]
     },
     "execution_count": 13,
     "metadata": {},
     "output_type": "execute_result"
    }
   ],
   "source": [
    "# tip: you can create dict using zip()\n",
    "dict(zip(col_names, germany))"
   ]
  },
  {
   "cell_type": "markdown",
   "metadata": {},
   "source": [
    "### break and continue"
   ]
  },
  {
   "cell_type": "code",
   "execution_count": 22,
   "metadata": {},
   "outputs": [
    {
     "name": "stdout",
     "output_type": "stream",
     "text": [
      "0\n",
      "0\n",
      "2\n",
      "4\n"
     ]
    }
   ],
   "source": [
    "# break: stop execution and continue after the loop\n",
    "# continue: stops execution of the loop body and start \n",
    "# with the next item\n",
    "\n",
    "print(0%2)\n",
    "\n",
    "for i in range(5):\n",
    "    if i % 2 == 1:  # 1 (true) or 0 (false)\n",
    "        continue\n",
    "    print(i)"
   ]
  },
  {
   "cell_type": "code",
   "execution_count": 23,
   "metadata": {},
   "outputs": [
    {
     "name": "stdout",
     "output_type": "stream",
     "text": [
      "0\n",
      "1\n",
      "2\n",
      "3\n",
      "4\n"
     ]
    }
   ],
   "source": [
    "count = 0\n",
    "while True:\n",
    "    print(count)\n",
    "    count += 1\n",
    "    if count == 5:\n",
    "        break\n"
   ]
  },
  {
   "cell_type": "code",
   "execution_count": 25,
   "metadata": {},
   "outputs": [
    {
     "name": "stdout",
     "output_type": "stream",
     "text": [
      "String to capitalize [type q to quit]: hello\n",
      "Hello\n",
      "String to capitalize [type q to quit]: hi\n",
      "Hi\n",
      "String to capitalize [type q to quit]: snow\n",
      "Snow\n",
      "String to capitalize [type q to quit]: well...\n",
      "Well...\n",
      "String to capitalize [type q to quit]: q\n"
     ]
    }
   ],
   "source": [
    "while True:\n",
    "    stuff = input(\"String to capitalize [type q to quit]: \")\n",
    "    if stuff == \"q\":\n",
    "        break\n",
    "    print(stuff.capitalize())"
   ]
  },
  {
   "cell_type": "markdown",
   "metadata": {},
   "source": [
    "# if, elif, else\n",
    "\n",
    "`if expression:  # execute if expression evaluates to True -> boolean \n",
    "    statements\n",
    "elif expression:\n",
    "    statements\n",
    "else:\n",
    "    statements`"
   ]
  },
  {
   "cell_type": "code",
   "execution_count": 26,
   "metadata": {},
   "outputs": [
    {
     "name": "stdout",
     "output_type": "stream",
     "text": [
      "How is the weather today?bad\n",
      "Let's study Python Programming\n"
     ]
    }
   ],
   "source": [
    "weather = input(\"How is the weather today?\")\n",
    "\n",
    "if weather == 'good':\n",
    "    print(\"Let's go out\")\n",
    "elif weather == 'bad':\n",
    "    print(\"Let's study Python Programming\")\n",
    "else:\n",
    "    print(\"Ah..you choose\")"
   ]
  },
  {
   "cell_type": "code",
   "execution_count": null,
   "metadata": {},
   "outputs": [],
   "source": []
  }
 ],
 "metadata": {
  "kernelspec": {
   "display_name": "Python 3",
   "language": "python",
   "name": "python3"
  },
  "language_info": {
   "codemirror_mode": {
    "name": "ipython",
    "version": 3
   },
   "file_extension": ".py",
   "mimetype": "text/x-python",
   "name": "python",
   "nbconvert_exporter": "python",
   "pygments_lexer": "ipython3",
   "version": "3.8.3"
  }
 },
 "nbformat": 4,
 "nbformat_minor": 2
}
