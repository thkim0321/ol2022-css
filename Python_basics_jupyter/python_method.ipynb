{
 "cells": [
  {
   "cell_type": "markdown",
   "metadata": {},
   "source": [
    "# method (functions)"
   ]
  },
  {
   "cell_type": "markdown",
   "metadata": {},
   "source": [
    "# function definition\n",
    "\n",
    "```python\n",
    "def name(parameters):\n",
    "     statements\n",
    "     return expression\n",
    "```\n",
    "\n",
    "# function call\n",
    "if there is `return`:\n",
    "\n",
    "`var = name(arguments)`\n",
    "\n",
    "if there is no `return`:\n",
    "\n",
    "`name(arguments)`"
   ]
  },
  {
   "cell_type": "markdown",
   "metadata": {},
   "source": [
    "# Indentation block\n",
    "Python uses indentation to compose statements into blocks\n",
    "- a block starts with a block statement followed by a colon\n",
    "- all statements inside the block have a higher indentation depth\n",
    "- statements on the same nesting level must have equal indentation\n",
    "- the block ends by decreasing the indentation levels to a previous one"
   ]
  },
  {
   "cell_type": "code",
   "execution_count": 1,
   "metadata": {},
   "outputs": [],
   "source": [
    "def split(float_value):  # an argument is float_value\n",
    "    \"\"\"Split a float value into interger and decimal part\n",
    "\n",
    "    :param float_value: a float number\n",
    "    :return: integer and decimal number\n",
    "    \"\"\"\n",
    "    ap = float_value - int(float_value)\n",
    "    return int(float_value), ap"
   ]
  },
  {
   "cell_type": "code",
   "execution_count": 6,
   "metadata": {},
   "outputs": [
    {
     "data": {
      "text/plain": [
       "(3, 0.5)"
      ]
     },
     "execution_count": 6,
     "metadata": {},
     "output_type": "execute_result"
    }
   ],
   "source": [
    "split(3.5)"
   ]
  },
  {
   "cell_type": "code",
   "execution_count": 8,
   "metadata": {},
   "outputs": [
    {
     "name": "stdout",
     "output_type": "stream",
     "text": [
      "3\n"
     ]
    }
   ],
   "source": [
    "a, b = split(float_value=3.5)\n",
    "print(a)"
   ]
  },
  {
   "cell_type": "code",
   "execution_count": 9,
   "metadata": {},
   "outputs": [],
   "source": [
    "def foo(a, b=3.14):  # we can set defalt value for each parameter\n",
    "    return a * b"
   ]
  },
  {
   "cell_type": "code",
   "execution_count": 10,
   "metadata": {},
   "outputs": [
    {
     "data": {
      "text/plain": [
       "9.42"
      ]
     },
     "execution_count": 10,
     "metadata": {},
     "output_type": "execute_result"
    }
   ],
   "source": [
    "foo(3) # 3 * 3.14"
   ]
  },
  {
   "cell_type": "code",
   "execution_count": 12,
   "metadata": {},
   "outputs": [
    {
     "data": {
      "text/plain": [
       "[3.14, 6.28, 9.42]"
      ]
     },
     "execution_count": 12,
     "metadata": {},
     "output_type": "execute_result"
    }
   ],
   "source": [
    "temp = [1,2,3]\n",
    "[foo(x) for x in temp]"
   ]
  },
  {
   "cell_type": "code",
   "execution_count": 22,
   "metadata": {
    "collapsed": true
   },
   "outputs": [],
   "source": [
    "### What is going to happen?"
   ]
  },
  {
   "cell_type": "code",
   "execution_count": 23,
   "metadata": {
    "collapsed": true
   },
   "outputs": [],
   "source": [
    "def num_size(num):\n",
    "    if num > 100:\n",
    "        return True\n",
    "    else:\n",
    "        return False"
   ]
  },
  {
   "cell_type": "code",
   "execution_count": 24,
   "metadata": {},
   "outputs": [
    {
     "name": "stdout",
     "output_type": "stream",
     "text": [
      "10 is smaller than 100\n"
     ]
    }
   ],
   "source": [
    "number = 10\n",
    "if num_size(number): # calling function\n",
    "    print(str(number) + \" is bigger than 100\")\n",
    "else:\n",
    "    print(str(number) + \" is smaller than 100\")"
   ]
  },
  {
   "cell_type": "markdown",
   "metadata": {},
   "source": [
    "### docstring: explain your function"
   ]
  },
  {
   "cell_type": "code",
   "execution_count": 25,
   "metadata": {},
   "outputs": [
    {
     "name": "stdout",
     "output_type": "stream",
     "text": [
      "Help on function split in module __main__:\n",
      "\n",
      "split(float_value)\n",
      "    Split a float value into interger and decimal part\n",
      "    \n",
      "    :param float_value: a float number\n",
      "    :return: integer and decimal number\n",
      "\n"
     ]
    }
   ],
   "source": [
    "help(split)"
   ]
  },
  {
   "cell_type": "code",
   "execution_count": 26,
   "metadata": {},
   "outputs": [
    {
     "name": "stdout",
     "output_type": "stream",
     "text": [
      "Split a float value into interger and decimal part\n",
      "\n",
      "    :param float_value: a float number\n",
      "    :return: integer and decimal number\n",
      "    \n"
     ]
    }
   ],
   "source": [
    "print(split.__doc__)"
   ]
  },
  {
   "cell_type": "markdown",
   "metadata": {},
   "source": [
    "# map and lambda\n",
    "## **`map()`** function apply a function on all the elements of specified iterable items and return map object. "
   ]
  },
  {
   "cell_type": "code",
   "execution_count": 30,
   "metadata": {
    "collapsed": true
   },
   "outputs": [],
   "source": [
    "def double(x):\n",
    "    return x * 2\n",
    "lst = [1, 2, 3, 4, 5, 6, 7]"
   ]
  },
  {
   "cell_type": "code",
   "execution_count": 31,
   "metadata": {},
   "outputs": [
    {
     "data": {
      "text/plain": [
       "[2, 4, 6, 8, 10, 12, 14]"
      ]
     },
     "execution_count": 31,
     "metadata": {},
     "output_type": "execute_result"
    }
   ],
   "source": [
    "list(map(double,lst)) # We can convert a map object to a list"
   ]
  },
  {
   "cell_type": "code",
   "execution_count": 43,
   "metadata": {},
   "outputs": [
    {
     "name": "stdout",
     "output_type": "stream",
     "text": [
      "2\n",
      "4\n",
      "6\n",
      "8\n",
      "10\n",
      "12\n",
      "14\n"
     ]
    }
   ],
   "source": [
    "for e in map(double, lst): # map object is iterable. So we can extract items using for loop.\n",
    "    print(e)"
   ]
  },
  {
   "cell_type": "markdown",
   "metadata": {},
   "source": [
    "## **`lambda`** function is a small anonymous function. It can only have one expression (i.e., one line of code)."
   ]
  },
  {
   "cell_type": "code",
   "execution_count": 49,
   "metadata": {},
   "outputs": [
    {
     "data": {
      "text/plain": [
       "4"
      ]
     },
     "execution_count": 49,
     "metadata": {},
     "output_type": "execute_result"
    }
   ],
   "source": [
    "def double(x):\n",
    "    return x * 2\n",
    "\n",
    "double_lambda = lambda x: x * 2\n",
    "double_lambda(2)"
   ]
  },
  {
   "cell_type": "code",
   "execution_count": 50,
   "metadata": {},
   "outputs": [
    {
     "data": {
      "text/plain": [
       "[2, 4, 6, 8, 10, 12, 14]"
      ]
     },
     "execution_count": 50,
     "metadata": {},
     "output_type": "execute_result"
    }
   ],
   "source": [
    "list(map(lambda x: x * 2, lst))"
   ]
  },
  {
   "cell_type": "code",
   "execution_count": 1,
   "metadata": {},
   "outputs": [
    {
     "name": "stdout",
     "output_type": "stream",
     "text": [
      "[('David', 91), ('Bob', 82), ('Adam', 64), ('Charlie', 21)]\n"
     ]
    }
   ],
   "source": [
    "# typical usage of lambda function\n",
    "score = [(\"Adam\", 64), (\"Bob\", 82), \n",
    "         (\"Charlie\", 21), (\"David\", 91)]\n",
    "\n",
    "score.sort(key=lambda x: x[1], reverse = True)\n",
    "\n",
    "#def foo(x):\n",
    "#    return x[1]\n",
    "#score.sort(key=foo) # https://docs.python.org/3/howto/sorting.html\n",
    "\n",
    "print(score)"
   ]
  },
  {
   "cell_type": "code",
   "execution_count": 53,
   "metadata": {
    "collapsed": true
   },
   "outputs": [],
   "source": [
    "a = [\n",
    "      [1,7,'z'],\n",
    "      [3,2,'x'],\n",
    "      [1,8,'r'],\n",
    "      [2,2,'s'],\n",
    "      [1,9,'b'],\n",
    "      [2,2,'a']\n",
    "    ]"
   ]
  },
  {
   "cell_type": "code",
   "execution_count": 54,
   "metadata": {},
   "outputs": [
    {
     "data": {
      "text/plain": [
       "[[1, 7, 'z'], [3, 2, 'x'], [1, 8, 'r'], [2, 2, 's'], [1, 9, 'b'], [2, 2, 'a']]"
      ]
     },
     "execution_count": 54,
     "metadata": {},
     "output_type": "execute_result"
    }
   ],
   "source": [
    "a"
   ]
  },
  {
   "cell_type": "code",
   "execution_count": 55,
   "metadata": {},
   "outputs": [
    {
     "name": "stdout",
     "output_type": "stream",
     "text": [
      "[[2, 2, 'a'], [1, 9, 'b'], [1, 8, 'r'], [2, 2, 's'], [3, 2, 'x'], [1, 7, 'z']]\n"
     ]
    }
   ],
   "source": [
    "a.sort(key=lambda x:x[2])\n",
    "print(a)"
   ]
  },
  {
   "cell_type": "code",
   "execution_count": 56,
   "metadata": {},
   "outputs": [
    {
     "name": "stdout",
     "output_type": "stream",
     "text": [
      "[[1, 9, 'b'], [1, 8, 'r'], [1, 7, 'z'], [2, 2, 'a'], [2, 2, 's'], [3, 2, 'x']]\n"
     ]
    }
   ],
   "source": [
    "a.sort(key=lambda x:x[0])\n",
    "print(a)"
   ]
  },
  {
   "cell_type": "code",
   "execution_count": null,
   "metadata": {
    "collapsed": true
   },
   "outputs": [],
   "source": []
  }
 ],
 "metadata": {
  "kernelspec": {
   "display_name": "Python 3",
   "language": "python",
   "name": "python3"
  },
  "language_info": {
   "codemirror_mode": {
    "name": "ipython",
    "version": 3
   },
   "file_extension": ".py",
   "mimetype": "text/x-python",
   "name": "python",
   "nbconvert_exporter": "python",
   "pygments_lexer": "ipython3",
   "version": "3.8.3"
  }
 },
 "nbformat": 4,
 "nbformat_minor": 2
}
