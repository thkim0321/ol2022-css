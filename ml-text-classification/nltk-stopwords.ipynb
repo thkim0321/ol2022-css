{
 "cells": [
  {
   "cell_type": "code",
   "execution_count": 1,
   "metadata": {},
   "outputs": [],
   "source": [
    "import nltk\n",
    "from nltk.corpus import stopwords\n",
    "from nltk.corpus import stopwords\n",
    "from nltk.tokenize import word_tokenize\n",
    "from nltk.tokenize import TweetTokenizer"
   ]
  },
  {
   "cell_type": "code",
   "execution_count": null,
   "metadata": {},
   "outputs": [],
   "source": [
    "nltk.download()"
   ]
  },
  {
   "cell_type": "code",
   "execution_count": 8,
   "metadata": {},
   "outputs": [
    {
     "name": "stdout",
     "output_type": "stream",
     "text": [
      "['i', 'me', 'my', 'myself', 'we', 'our', 'ours', 'ourselves', 'you', \"you're\", \"you've\", \"you'll\", \"you'd\", 'your', 'yours', 'yourself', 'yourselves', 'he', 'him', 'his', 'himself', 'she', \"she's\", 'her', 'hers', 'herself', 'it', \"it's\", 'its', 'itself', 'they', 'them', 'their', 'theirs', 'themselves', 'what', 'which', 'who', 'whom', 'this', 'that', \"that'll\", 'these', 'those', 'am', 'is', 'are', 'was', 'were', 'be', 'been', 'being', 'have', 'has', 'had', 'having', 'do', 'does', 'did', 'doing', 'a', 'an', 'the', 'and', 'but', 'if', 'or', 'because', 'as', 'until', 'while', 'of', 'at', 'by', 'for', 'with', 'about', 'against', 'between', 'into', 'through', 'during', 'before', 'after', 'above', 'below', 'to', 'from', 'up', 'down', 'in', 'out', 'on', 'off', 'over', 'under', 'again', 'further', 'then', 'once', 'here', 'there', 'when', 'where', 'why', 'how', 'all', 'any', 'both', 'each', 'few', 'more', 'most', 'other', 'some', 'such', 'no', 'nor', 'not', 'only', 'own', 'same', 'so', 'than', 'too', 'very', 's', 't', 'can', 'will', 'just', 'don', \"don't\", 'should', \"should've\", 'now', 'd', 'll', 'm', 'o', 're', 've', 'y', 'ain', 'aren', \"aren't\", 'couldn', \"couldn't\", 'didn', \"didn't\", 'doesn', \"doesn't\", 'hadn', \"hadn't\", 'hasn', \"hasn't\", 'haven', \"haven't\", 'isn', \"isn't\", 'ma', 'mightn', \"mightn't\", 'mustn', \"mustn't\", 'needn', \"needn't\", 'shan', \"shan't\", 'shouldn', \"shouldn't\", 'wasn', \"wasn't\", 'weren', \"weren't\", 'won', \"won't\", 'wouldn', \"wouldn't\"]\n"
     ]
    }
   ],
   "source": [
    "\n",
    "stop_words = stopwords.words('english')\n",
    "print(stop_words)\n"
   ]
  },
  {
   "cell_type": "code",
   "execution_count": 11,
   "metadata": {},
   "outputs": [
    {
     "name": "stdout",
     "output_type": "stream",
     "text": [
      "{\"hadn't\", 'for', 'because', 't', \"don't\", 'having', 'wouldn', 'between', 'only', 've', 'this', 'we', \"needn't\", 'can', 'its', 'as', 'about', 'again', 'once', 'couldn', 'should', 'those', 'ours', 'ma', 'if', 'these', 'itself', 'further', \"shouldn't\", 'but', 'no', 'same', 'did', 'hers', \"isn't\", 'mustn', 'from', 'theirs', 'on', \"mightn't\", 'aren', 'off', 'how', 'll', 'ourselves', 'doing', 'them', 'himself', 'hadn', 'herself', 'both', 'such', 'just', 'don', 'up', 'most', 'so', \"you're\", 'an', 'shouldn', 'being', 'over', 'he', 'here', 'she', 'been', 'after', 'i', 're', 'will', \"didn't\", 'there', 'doesn', 's', 'through', 'has', \"aren't\", \"couldn't\", 'shan', 'which', 'him', \"wasn't\", 'own', 'are', \"won't\", 'our', 'into', 'does', 'nor', 'had', 'ain', 'what', 'under', 'some', 'm', \"it's\", 'hasn', 'that', 'now', 'you', 'until', 'below', 'mightn', \"haven't\", 'were', 'then', 'any', \"shan't\", 'the', 'do', 'yourself', 'myself', 'y', 'didn', 'with', 'all', 'in', 'out', \"doesn't\", \"hasn't\", 'than', 'o', 'against', 'your', 'too', 'while', 'his', \"she's\", 'or', \"weren't\", 'weren', 'haven', 'themselves', 'my', 'why', \"you'd\", 'down', 'isn', \"that'll\", 'their', 'few', 'yourselves', 'where', \"mustn't\", 'a', 'who', 'by', 'very', 'to', 'during', 'it', 'me', 'her', 'whom', 'not', 'other', 'be', 'at', 'when', 'and', 'won', 'am', 'before', \"should've\", 'they', 'each', 'above', 'was', 'have', 'is', 'needn', 'more', \"you'll\", \"you've\", 'd', \"wouldn't\", 'wasn', 'of', 'yours'}\n"
     ]
    }
   ],
   "source": [
    "example_sent = \"This is a sample sentence, showing off the stop words filtration.\"\n",
    "\n",
    "stop_words = set(stopwords.words('english'))\n",
    "print(stop_words)\n",
    "\n"
   ]
  },
  {
   "cell_type": "code",
   "execution_count": 12,
   "metadata": {},
   "outputs": [
    {
     "name": "stdout",
     "output_type": "stream",
     "text": [
      "['This', 'is', 'a', 'sample', 'sentence', ',', 'showing', 'off', 'the', 'stop', 'words', 'filtration', '.']\n"
     ]
    }
   ],
   "source": [
    "word_tokens = word_tokenize(example_sent)\n",
    "print(word_tokens)\n"
   ]
  },
  {
   "cell_type": "code",
   "execution_count": 14,
   "metadata": {},
   "outputs": [
    {
     "name": "stdout",
     "output_type": "stream",
     "text": [
      "['This', 'is', 'a', 'sample', 'sentence', ',', 'showing', 'off', 'the', 'stop', 'words', 'filtration', '.']\n",
      "['This', 'sample', 'sentence', ',', 'showing', 'stop', 'words', 'filtration', '.']\n"
     ]
    }
   ],
   "source": [
    "filtered_sentence = []\n",
    "\n",
    "for w in word_tokens:\n",
    "    if w not in stop_words:\n",
    "        filtered_sentence.append(w)\n",
    "\n",
    "print(word_tokens)\n",
    "print(filtered_sentence)\n"
   ]
  }
 ],
 "metadata": {
  "kernelspec": {
   "display_name": "base",
   "language": "python",
   "name": "base"
  },
  "language_info": {
   "codemirror_mode": {
    "name": "ipython",
    "version": 3
   },
   "file_extension": ".py",
   "mimetype": "text/x-python",
   "name": "python",
   "nbconvert_exporter": "python",
   "pygments_lexer": "ipython3",
   "version": "3.8.3"
  },
  "orig_nbformat": 4
 },
 "nbformat": 4,
 "nbformat_minor": 2
}
