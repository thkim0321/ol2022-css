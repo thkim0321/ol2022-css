{
 "cells": [
  {
   "cell_type": "markdown",
   "metadata": {},
   "source": [
    "# Exercise 2: List and Function"
   ]
  },
  {
   "cell_type": "markdown",
   "metadata": {},
   "source": [
    "Complete the function `foo()` below. Read the function documentation (surraunded by \"\"\" and \"\"\". ) carefully. \n",
    "\n"
   ]
  },
  {
   "cell_type": "code",
   "execution_count": 1,
   "metadata": {},
   "outputs": [],
   "source": [
    "def foo(int_a, int_b, int_c):\n",
    "    \"\"\"\n",
    "    This function (1) receive three integers,\n",
    "    (2) add 1 to each integer and print the reuslt\n",
    "    (3) return a list consisting of three integers added 1.\n",
    "    For example, \n",
    "    foo(1,2,3) should print 2,3,4 and return [2,3,4].\n",
    "\n",
    "    :param int_a: integer\n",
    "    :param int_b: integer\n",
    "    :param int_c: integer\n",
    "    :return: a list with three integers added 1.\n",
    "    \"\"\"\n",
    "    # YOUR CODE FROM HERE ------------\n",
    "    int_a = int_a + 1\n",
    "    int_b = int_b + 1\n",
    "    int_c += 1\n",
    "    print(int_a, int_b, int_c)\n",
    "    result_list = [int_a, int_b, int_c]\n",
    "    return result_list\n"
   ]
  },
  {
   "cell_type": "code",
   "execution_count": 3,
   "metadata": {},
   "outputs": [
    {
     "name": "stdout",
     "output_type": "stream",
     "text": [
      "2 3 4\n"
     ]
    }
   ],
   "source": [
    "result = foo(1,2,3)"
   ]
  },
  {
   "cell_type": "code",
   "execution_count": 8,
   "metadata": {},
   "outputs": [
    {
     "name": "stdout",
     "output_type": "stream",
     "text": [
      "[2, 3, 4]\n",
      "<class 'list'>\n"
     ]
    },
    {
     "data": {
      "text/plain": [
       "2"
      ]
     },
     "execution_count": 8,
     "metadata": {},
     "output_type": "execute_result"
    }
   ],
   "source": [
    "print(result)\n",
    "print(type(result))\n",
    "result[0]"
   ]
  }
 ],
 "metadata": {
  "kernelspec": {
   "display_name": "Python 3.8.3 ('base')",
   "language": "python",
   "name": "python3"
  },
  "language_info": {
   "codemirror_mode": {
    "name": "ipython",
    "version": 3
   },
   "file_extension": ".py",
   "mimetype": "text/x-python",
   "name": "python",
   "nbconvert_exporter": "python",
   "pygments_lexer": "ipython3",
   "version": "3.8.3"
  },
  "orig_nbformat": 4,
  "vscode": {
   "interpreter": {
    "hash": "5a5de30065858b2a3304bed5046c2b0b4c4d390e344cc17b595772fa0885098f"
   }
  }
 },
 "nbformat": 4,
 "nbformat_minor": 2
}
