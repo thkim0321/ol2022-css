{
 "cells": [
  {
   "cell_type": "code",
   "execution_count": 8,
   "metadata": {},
   "outputs": [],
   "source": [
    "from sklearn.metrics import classification_report\n",
    "from sklearn.metrics import accuracy_score\n",
    "from sklearn.feature_extraction.text import CountVectorizer\n",
    "from sklearn.feature_extraction.text import TfidfTransformer\n",
    "from sklearn.pipeline import Pipeline, make_pipeline\n",
    "from sklearn.model_selection import GridSearchCV\n",
    "from sklearn.svm import SVC\n",
    "from nltk.stem.snowball import SnowballStemmer\n",
    "from nltk.tokenize import word_tokenize\n",
    "\n",
    "\n",
    "\n",
    "\n",
    "def parsing(sentence):\n",
    "    \"\"\"\n",
    "    Receive a sentence and return it after stemming each word.\n",
    "    Note that it only works for English.  \n",
    "    :param a sentence\n",
    "    :return: a sentence after applying snowball stemmer to each word\n",
    "    \"\"\"\n",
    "    words = word_tokenize(sentence,'english')\n",
    "    stemmer = SnowballStemmer('english') # Language setting.\n",
    "\n",
    "    result = []\n",
    "    for w in words:\n",
    "        ws = stemmer.stem(w)\n",
    "        result.append(ws)\n",
    "    output = \" \".join(result)\n",
    "    return output\n",
    "\n",
    "\n",
    "\n",
    "\"\"\"\n",
    "SVM Linear Kernel\n",
    "\"\"\"\n",
    "\n",
    "\n",
    "def train(text,category):\n",
    "    \"\"\"\n",
    "    It receive train text and category and return the trained model of svm\n",
    "    Category should be binary: i.e., 0 or 1\n",
    "    :param text: list of text\n",
    "    :param category: list of binary category\n",
    "    :return: trained svm\n",
    "    \"\"\"\n",
    "\n",
    "    # Apply SnowballStemmer to each word\n",
    "    X_train_vect = []\n",
    "    for line in text:\n",
    "        X_train_vect.append(parsing(line))\n",
    "\n",
    "    # Set pipeline\n",
    "    pipeline_svm = make_pipeline(CountVectorizer(), TfidfTransformer(), SVC(probability=True, kernel=\"linear\", class_weight=\"balanced\"))\n",
    "    # Set grid search\n",
    "    grid_svm = GridSearchCV(pipeline_svm,\n",
    "                            param_grid={'svc__C': [0.01, 0.1, 1]}, # three C parameter we try\n",
    "                            cv = 5, # 5 folds. Determines the cross-validation splitting strategy.\n",
    "                            scoring=\"roc_auc\", # Strategy to evaluate the performance of the cross-validated model on the test set.\n",
    "                            verbose=1, # Show progress or not (0 : print nothing)\n",
    "                            n_jobs=-1) # Number of jobs to run in parallel. None means 1 unless in a joblib.parallel_backend context. -1 means using all processors. \n",
    "    # Train\n",
    "    grid_svm.fit(X_train_vect, category)\n",
    "    return grid_svm\n",
    "\n",
    "\n",
    "def predict(trained_svm,text):\n",
    "    \"\"\"\n",
    "    Receive trained svm model and list of text and return its prediction\n",
    "    :param trained_svm:\n",
    "    :param text: list of text\n",
    "    :return: prediction in list format\n",
    "    \"\"\"\n",
    "    X_test_vect = []\n",
    "    for line in text:\n",
    "        X_test_vect.append(parsing(line))\n",
    "    # Get prediction using trained model\n",
    "    pred = trained_svm.predict(X_test_vect)\n",
    "    return pred\n",
    "\n",
    "def classification_result(test_category, prediction):\n",
    "    \"\"\"\n",
    "    Print classification report and accuracy score\n",
    "    :param test_category: test category (true values) in list format\n",
    "    :param prediction: predicted category in list format\n",
    "    \"\"\"\n",
    "    print(classification_report(test_category,prediction))\n",
    "    print(accuracy_score(test_category,prediction))\n",
    "\n",
    "\n",
    "\n"
   ]
  },
  {
   "cell_type": "code",
   "execution_count": 7,
   "metadata": {},
   "outputs": [
    {
     "data": {
      "text/plain": [
       "'mani dog are run around'"
      ]
     },
     "execution_count": 7,
     "metadata": {},
     "output_type": "execute_result"
    }
   ],
   "source": [
    "parsing(\"many dogs are running around\")"
   ]
  },
  {
   "cell_type": "code",
   "execution_count": 4,
   "metadata": {},
   "outputs": [],
   "source": [
    "# Import data \n",
    "import pickle\n",
    "with open(\"obama-trump.pkl\", \"rb\") as f:\n",
    "    data = pickle.load(f)"
   ]
  },
  {
   "cell_type": "code",
   "execution_count": 5,
   "metadata": {},
   "outputs": [
    {
     "data": {
      "text/plain": [
       "4"
      ]
     },
     "execution_count": 5,
     "metadata": {},
     "output_type": "execute_result"
    }
   ],
   "source": [
    "len(data)"
   ]
  },
  {
   "cell_type": "code",
   "execution_count": 9,
   "metadata": {},
   "outputs": [
    {
     "name": "stdout",
     "output_type": "stream",
     "text": [
      "2000 2000 1000 1000\n"
     ]
    }
   ],
   "source": [
    "print(len(data[0]),len(data[1]), len(data[2]), len(data[3]))"
   ]
  },
  {
   "cell_type": "code",
   "execution_count": 13,
   "metadata": {},
   "outputs": [],
   "source": [
    "train_t = data[0]\n",
    "train_c = data[1]\n",
    "test_t = data[2]\n",
    "test_c = data[3]"
   ]
  },
  {
   "cell_type": "code",
   "execution_count": 14,
   "metadata": {},
   "outputs": [
    {
     "name": "stdout",
     "output_type": "stream",
     "text": [
      "Fitting 5 folds for each of 3 candidates, totalling 15 fits\n"
     ]
    },
    {
     "name": "stderr",
     "output_type": "stream",
     "text": [
      "[Parallel(n_jobs=-1)]: Using backend LokyBackend with 8 concurrent workers.\n",
      "[Parallel(n_jobs=-1)]: Done  15 out of  15 | elapsed:    6.7s finished\n"
     ]
    },
    {
     "name": "stdout",
     "output_type": "stream",
     "text": [
      "              precision    recall  f1-score   support\n",
      "\n",
      "           0       0.93      0.94      0.93       500\n",
      "           1       0.94      0.93      0.93       500\n",
      "\n",
      "    accuracy                           0.93      1000\n",
      "   macro avg       0.93      0.93      0.93      1000\n",
      "weighted avg       0.93      0.93      0.93      1000\n",
      "\n",
      "0.934\n"
     ]
    }
   ],
   "source": [
    "# SVM\n",
    "trained = train(train_t, train_c)\n",
    "pred = predict(trained, test_t)\n",
    "classification_result(test_c,pred)\n"
   ]
  }
 ],
 "metadata": {
  "kernelspec": {
   "display_name": "base",
   "language": "python",
   "name": "base"
  },
  "language_info": {
   "codemirror_mode": {
    "name": "ipython",
    "version": 3
   },
   "file_extension": ".py",
   "mimetype": "text/x-python",
   "name": "python",
   "nbconvert_exporter": "python",
   "pygments_lexer": "ipython3",
   "version": "3.8.3"
  },
  "vscode": {
   "interpreter": {
    "hash": "5a5de30065858b2a3304bed5046c2b0b4c4d390e344cc17b595772fa0885098f"
   }
  }
 },
 "nbformat": 4,
 "nbformat_minor": 4
}
